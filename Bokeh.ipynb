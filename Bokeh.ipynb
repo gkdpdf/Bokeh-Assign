{
  "nbformat": 4,
  "nbformat_minor": 0,
  "metadata": {
    "colab": {
      "provenance": []
    },
    "kernelspec": {
      "name": "python3",
      "display_name": "Python 3"
    },
    "language_info": {
      "name": "python"
    }
  },
  "cells": [
    {
      "cell_type": "markdown",
      "source": [
        "#1\n",
        "\n",
        "Bokeh is a Python library which is used for data visualization through high-performance interactive charts and plots. It creates its plots using HTML and JavaScript languages. The output of the bokeh library can be generated on several platforms such as browser, HTML, server, and notebook. It is also possible to create the bokeh plots in Django and flask applications.\n"
      ],
      "metadata": {
        "id": "-LFtBQOn9Ml-"
      }
    },
    {
      "cell_type": "markdown",
      "source": [
        "#2\n",
        "Glyphs are the building blocks of Bokeh visualizations. A glyph is a vectorized graphical shape or marker that is used to represent your data."
      ],
      "metadata": {
        "id": "Pw79SSQv9obV"
      }
    },
    {
      "cell_type": "markdown",
      "source": [
        "A Few Categories of Glyphs:\n",
        "\n",
        "Marker: Shapes like circles, diamonds, squares and triangles. Effective for scatter and bubble charts.\n",
        "Line: Single, step and multi-line shapes. For building line charts.\n",
        "Bar/Rectangle: Traditional or stacked bar (hbar) and column (vbar) charts as well as waterfall or gantt charts."
      ],
      "metadata": {
        "id": "LJic1ir49xKr"
      }
    },
    {
      "cell_type": "code",
      "source": [
        "#3\n",
        "##Axis\n",
        "from bokeh.plotting import figure, show\n",
        "\n",
        "# prepare some data\n",
        "x = [1, 2, 3, 4, 5]\n",
        "y = [4, 5, 5, 7, 2]\n",
        "\n",
        "# create a plot\n",
        "p = figure(\n",
        "    title=\"Customized axes example\",\n",
        "    sizing_mode=\"stretch_width\",\n",
        "    max_width=500,\n",
        "    height=350,\n",
        ")\n",
        "\n",
        "# add a renderer\n",
        "p.circle(x, y, size=10)\n",
        "\n",
        "# change some things about the x-axis\n",
        "p.xaxis.axis_label = \"Temp\"\n",
        "p.xaxis.axis_line_width = 3\n",
        "p.xaxis.axis_line_color = \"red\"\n",
        "\n",
        "# change some things about the y-axis\n",
        "p.yaxis.axis_label = \"Pressure\"\n",
        "p.yaxis.major_label_text_color = \"orange\"\n",
        "p.yaxis.major_label_orientation = \"vertical\"\n",
        "\n",
        "# change things on all axes\n",
        "p.axis.minor_tick_in = -3\n",
        "p.axis.minor_tick_out = 6\n",
        "\n",
        "# show the results\n",
        "show(p)\n",
        "\n",
        "# change things only on the x-grid\n",
        "p.xgrid.grid_line_color = \"red\"\n",
        "\n",
        "# change things only on the y-grid\n",
        "p.ygrid.grid_line_alpha = 0.8\n",
        "p.ygrid.grid_line_dash = [6, 4]\n",
        "\n",
        "\n",
        "# change the fill colors\n",
        "p.background_fill_color = (204, 255, 255)\n",
        "p.border_fill_color = (102, 204, 255)\n",
        "p.outline_line_color = (0, 0, 255)"
      ],
      "metadata": {
        "id": "KV5vQ0c59qnv"
      },
      "execution_count": 1,
      "outputs": []
    },
    {
      "cell_type": "code",
      "source": [
        "#4\n",
        "'Bokeh server makes it easy to create interactive web applications that connect front-end UI events to running Python code. Bokeh creates high-level Python models, such as plots, ranges, axes, and glyphs, and then converts these objects to JSON to pass them to its client library, BokehJS.'"
      ],
      "metadata": {
        "colab": {
          "base_uri": "https://localhost:8080/",
          "height": 52
        },
        "id": "x2Q48bbl-E5O",
        "outputId": "cd81bdcb-969a-4576-b816-6c2f327ce275"
      },
      "execution_count": 2,
      "outputs": [
        {
          "output_type": "execute_result",
          "data": {
            "text/plain": [
              "'Bokeh server makes it easy to create interactive web applications that connect front-end UI events to running Python code. Bokeh creates high-level Python models, such as plots, ranges, axes, and glyphs, and then converts these objects to JSON to pass them to its client library, BokehJS.'"
            ],
            "application/vnd.google.colaboratory.intrinsic+json": {
              "type": "string"
            }
          },
          "metadata": {},
          "execution_count": 2
        }
      ]
    },
    {
      "cell_type": "code",
      "source": [
        "#5\n",
        "\n",
        "from django.shortcuts import render\n",
        "from django.http import HttpResponse\n",
        "from bokeh.plotting import figure\n",
        "from bokeh.embed import components\n",
        "\n",
        "# Create your views here.\n",
        "\n",
        "def home(request):\n",
        "\n",
        "   #create a plot\n",
        "    plot = figure(plot_width=400, plot_height=400)\n",
        "\n",
        "   # add a circle renderer with a size, color, and alpha\n",
        "\n",
        "   plot.circle([1, 2, 3, 4, 5], [6, 7, 2, 4, 5], size=20, color=\"navy\", alpha=0.5)\n",
        "\n",
        "   script, div = components(plot)\n",
        "\n",
        "   return render(request, 'base.html', {'script': script, 'div': div})"
      ],
      "metadata": {
        "id": "zAiosLWN-cYU"
      },
      "execution_count": null,
      "outputs": []
    },
    {
      "cell_type": "code",
      "source": [],
      "metadata": {
        "id": "A1PZKITE_feh"
      },
      "execution_count": null,
      "outputs": []
    }
  ]
}